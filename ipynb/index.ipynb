{
 "cells": [
  {
   "cell_type": "markdown",
   "id": "c366d31c",
   "metadata": {
    "origin_pos": 0
   },
   "source": [
    "Machine Learning Systems: Design and Implementation\n",
    "=========================\n",
    "\n",
    "```eval_rst\n",
    ".. raw:: html\n",
    "   :file: frontpage.html\n",
    "```\n",
    "\n",
    ":begin_tab:toc\n",
    " - [chapter_preface/index](chapter_preface/index.ipynb)\n",
    " - [chapter_introduction/index](chapter_introduction/index.ipynb)\n",
    " - [chapter_preface_basic/index](chapter_preface_basic/index.ipynb)\n",
    " - [chapter_programming_model/index](chapter_programming_model/index.ipynb)\n",
    " - [chapter_computational_graph/index](chapter_computational_graph/index.ipynb)\n",
    " - [chapter_compiler_frontend/index](chapter_compiler_frontend/index.ipynb)\n",
    " - [chapter_compiler_backend/index](chapter_compiler_backend/index.ipynb)\n",
    " - [chapter_accelerator/index](chapter_accelerator/index.ipynb)\n",
    " - [chapter_distributed/index](chapter_distributed/index.ipynb)\n",
    " - [chapter_model_deployment/index](chapter_model_deployment/index.ipynb)\n",
    " - [chapter_preface_extension/index](chapter_preface_extension/index.ipynb)\n",
    " - [chapter_recommender_system/index](chapter_recommender_system/index.ipynb)\n",
    " - [chapter_reinforcement_learning/index](chapter_reinforcement_learning/index.ipynb)\n",
    " - [chapter_robot/index](chapter_robot/index.ipynb)\n",
    ":end_tab:\n",
    "\n",
    ":begin_tab:toc\n",
    " - [appendix_machine_learning_introduction/index](appendix_machine_learning_introduction/index.ipynb)\n",
    ":end_tab:\n"
   ]
  }
 ],
 "metadata": {
  "language_info": {
   "name": "python"
  }
 },
 "nbformat": 4,
 "nbformat_minor": 5
}