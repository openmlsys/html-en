{
 "cells": [
  {
   "cell_type": "markdown",
   "id": "43eadc32",
   "metadata": {
    "origin_pos": 0
   },
   "source": [
    "# Reinforcement Learning System\n",
    "\n",
    "Reinforcement learning (RL) has emerged as a subfield of machine\n",
    "learning that focuses on how autonomous agents can learn to make optimal\n",
    "decisions through interactions with their environments. By designating\n",
    "rewards or penalties for each action taken, RL provides a framework for\n",
    "training intelligent systems to maximize cumulative reward over time.\n",
    "\n",
    ":begin_tab:toc\n",
    " - [Overview](Overview.ipynb)\n",
    " - [Introduction_to_Reinforcement_Learning](Introduction_to_Reinforcement_Learning.ipynb)\n",
    " - [Single-Node_Reinforcement_Learning_System](Single-Node_Reinforcement_Learning_System.ipynb)\n",
    " - [Distributed_Reinforcement_Learning_System](Distributed_Reinforcement_Learning_System.ipynb)\n",
    " - [Multi-agent_Reinforcement_Learning](Multi-agent_Reinforcement_Learning.ipynb)\n",
    " - [Multi-agent_Reinforcement_Learning_System](Multi-agent_Reinforcement_Learning_System.ipynb)\n",
    " - [Chapter_Summary](Chapter_Summary.ipynb)\n",
    ":end_tab:\n"
   ]
  }
 ],
 "metadata": {
  "language_info": {
   "name": "python"
  }
 },
 "nbformat": 4,
 "nbformat_minor": 5
}