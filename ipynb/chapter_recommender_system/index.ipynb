{
 "cells": [
  {
   "cell_type": "markdown",
   "id": "a6cefb67",
   "metadata": {
    "origin_pos": 0
   },
   "source": [
    "# Recommender System\n",
    "\n",
    "Recommender systems serve as intelligent agents, offering suggestions\n",
    "for items most relevant to a specific user. To do so, they scrutinize\n",
    "data items such as user characteristics, item features, and the\n",
    "interactions between the two. Over the past few years, powerhouse\n",
    "companies like Google, Facebook, and Alibaba have harnessed deep\n",
    "learning technologies to enhance the capabilities of recommender models.\n",
    "By deploying deep learning methodologies, these systems are endowed with\n",
    "the capability to effectively learn from data through gradient-based\n",
    "methods. Moreover, these systems are able to exploit large neural\n",
    "networks, including transformers and emerging large language models.\n",
    "This, in turn, bolsters the system's proficiency in dissecting complex,\n",
    "multi-modal data.\n",
    "\n",
    "In this chapter, we will delve into the foundational elements of deep\n",
    "learning recommender systems (DLRSs). We will elucidate key operational\n",
    "processes within these systems, primarily focusing on the multi-stage\n",
    "generation of recommendations and the updating of model parameters.\n",
    "Lastly, we will delve into a real-world recommender system, shedding\n",
    "light on strategic approaches used to tackle practical challenges.\n",
    "\n",
    "This chapter has the following learning objectives:\n",
    "\n",
    "1.  Understand the architecture of a recommender system and its\n",
    "    essential components.\n",
    "\n",
    "2.  Understand multi-stage recommendation and model update in a\n",
    "    recommender system.\n",
    "\n",
    "3.  Attain insights into the challenges faced by practical recommender\n",
    "    systems and discover their corresponding solutions.\n",
    "\n",
    ":begin_tab:toc\n",
    " - [Overview](Overview.ipynb)\n",
    " - [System_Components](System_Components.ipynb)\n",
    " - [Recommendation_Pipeline](Recommendation_Pipeline.ipynb)\n",
    " - [Model_Update](Model_Update.ipynb)\n",
    " - [Supporting_Real-time_Machine_Learning](Supporting_Real-time_Machine_Learning.ipynb)\n",
    " - [Chapter_Summary](Chapter_Summary.ipynb)\n",
    " - [Further_Reading](Further_Reading.ipynb)\n",
    ":end_tab:\n"
   ]
  }
 ],
 "metadata": {
  "language_info": {
   "name": "python"
  }
 },
 "nbformat": 4,
 "nbformat_minor": 5
}