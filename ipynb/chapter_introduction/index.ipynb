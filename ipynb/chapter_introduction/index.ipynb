{
 "cells": [
  {
   "cell_type": "markdown",
   "id": "4e9fce25",
   "metadata": {
    "origin_pos": 0
   },
   "source": [
    "# Introduction\n",
    " \n",
    " This chapter aims to provide readers with a comprehensive understanding\n",
    " of machine learning systems by describing the applications of machine\n",
    " learning and summarizing the design objectives and basic composition\n",
    " principles of such systems.\n",
    " \n",
    " \n",
    " ```toc\n",
    " :maxdepth: 2\n",
    " \n",
    " Machine_Learning_Applications\n",
    " Design_Objectives_of_Machine_Learning_Frameworks\n",
    " Machine_Learning_Framework_Architecture\n",
    " Application_Scenarios_of_Machine_Learning_Systems\n",
    " Book_Organization_and_Intended_Audience\n",
    " ```\n"
   ]
  }
 ],
 "metadata": {
  "language_info": {
   "name": "python"
  }
 },
 "nbformat": 4,
 "nbformat_minor": 5
}