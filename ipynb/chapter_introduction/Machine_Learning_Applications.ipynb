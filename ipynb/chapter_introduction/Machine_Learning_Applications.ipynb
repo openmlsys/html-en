{
 "cells": [
  {
   "cell_type": "markdown",
   "id": "dfd09e42",
   "metadata": {
    "origin_pos": 0
   },
   "source": [
    "# Machine Learning Applications\n",
    "\n",
    "In general terms, machine learning is a technology that learns useful\n",
    "knowledge from data. There are a variety of machine learning methods,\n",
    "including supervised learning, unsupervised learning, and reinforcement\n",
    "learning.\n",
    "\n",
    "1.  In supervised learning, the mapping relationships between inputs and\n",
    "    outputs are known to machines. For example, a discrete label can be\n",
    "    assigned to an input image.\n",
    "\n",
    "2.  In unsupervised learning, input data is provided to machines without\n",
    "    any labels assigned. For example, to distinguish cats and dogs among\n",
    "    a group of images, a machine needs to learn by itself the\n",
    "    characteristics of cats and dogs in order to classify them. This\n",
    "    unsupervised classification is also called clustering.\n",
    "\n",
    "3.  In reinforcement learning, an algorithm that runs on the machine\n",
    "    automatically improves itself to achieve the task objective in a\n",
    "    given learning environment. A well-known example of this is AlphaGo,\n",
    "    in which the rules of Go serve as the learning environment and the\n",
    "    victory score is set as the task objective.\n",
    "\n",
    "Machine learning is applied in a variety of fields --- computer vision,\n",
    "natural language processing (NLP), and intelligent decision-making, to\n",
    "name just a few. Computer vision, in a narrow sense, includes all\n",
    "image-based applications, such as facial recognition, object\n",
    "recognition, target tracking, human pose estimation, and image\n",
    "understanding. It is widely used in autonomous driving, smart city,\n",
    "smart security, and other scenarios.\n",
    "\n",
    "NLP involves both text- and speech-related applications, including\n",
    "language translation, text-to-speech and speech-to-text conversion, text\n",
    "understanding, and image style transfer. NLP and computer vision overlap\n",
    "in many aspects. For instance, in order to generate text description for\n",
    "images, or to generate or process images based on texts, machines need\n",
    "to handle both language and image data.\n",
    "\n",
    "Intelligent decision-making is usually achieved through technical means\n",
    "such as computer vision, NLP, reinforcement learning, and cybernetics.\n",
    "It is widely used in many scenarios, such as robotics, autonomous\n",
    "driving, games, recommender systems, smart factories, and smart grids.\n",
    "\n",
    "These machine learning applications use different underlying algorithms\n",
    "--- such as support vector machine (SVM), logistic regression, and naive\n",
    "Bayes --- based on the needs and characteristics of the applications. In\n",
    "recent years, deep learning has progressed significantly thanks to the\n",
    "availability of massive data, development of neural network algorithms,\n",
    "and maturity of hardware accelerators. But despite a wide variety of\n",
    "machine learning algorithms, the vast majority of computation work still\n",
    "relies on vector and matrix operations, regardless of whether classical\n",
    "or deep learning algorithms are employed. In this book, we therefore\n",
    "discuss machine learning systems that employ neural networks.\n"
   ]
  }
 ],
 "metadata": {
  "language_info": {
   "name": "python"
  }
 },
 "nbformat": 4,
 "nbformat_minor": 5
}