{
 "cells": [
  {
   "cell_type": "markdown",
   "id": "6cadeb86",
   "metadata": {
    "origin_pos": 0
   },
   "source": [
    "# AI Compiler Frontend\n",
    "\n",
    "Tailored for machine learning frameworks, an AI compiler is designed to\n",
    "convert Python-based machine learning programs into their optimized\n",
    "forms, enabling efficient native execution on heterogeneous processors.\n",
    "This chapter first outlines the typical architecture of an AI compiler\n",
    "before delving into the design of the compiler's frontend. The compiler\n",
    "frontend incorporates various techniques, including intermediate\n",
    "representations (IRs), automatic differentiation, type systems, static\n",
    "analysis, and compilation optimization.\n",
    "\n",
    "The learning objectives of this chapter include:\n",
    "\n",
    "-   Understanding the typical architecture of an AI compiler.\n",
    "\n",
    "-   Understanding the types and implementation of IRs in machine\n",
    "    learning frameworks.\n",
    "\n",
    "-   Understanding the methods of automatic differentiation implemented\n",
    "    in AI compilers.\n",
    "\n",
    "-   Understanding type systems and static analysis in AI compilers.\n",
    "\n",
    "-   Understanding common frontend compilation optimization methods used\n",
    "    by AI compilers.\n",
    "\n",
    ":begin_tab:toc\n",
    " - [Overview_of_AI_Compilers](Overview_of_AI_Compilers.ipynb)\n",
    " - [Overview_of_AI_Compiler_Frontends](Overview_of_AI_Compiler_Frontends.ipynb)\n",
    " - [Intermediate_Representation](Intermediate_Representation.ipynb)\n",
    " - [Automatic_Differentiation](Automatic_Differentiation.ipynb)\n",
    " - [Type_Systems_and_Static_Analysis](Type_Systems_and_Static_Analysis.ipynb)\n",
    " - [Frontend_Compilation_Optimization](Frontend_Compilation_Optimization.ipynb)\n",
    " - [Chapter_Summary](Chapter_Summary.ipynb)\n",
    " - [Further_Reading](Further_Reading.ipynb)\n",
    ":end_tab:\n"
   ]
  }
 ],
 "metadata": {
  "language_info": {
   "name": "python"
  }
 },
 "nbformat": 4,
 "nbformat_minor": 5
}