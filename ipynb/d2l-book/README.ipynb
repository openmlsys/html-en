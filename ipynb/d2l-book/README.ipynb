{
 "cells": [
  {
   "cell_type": "markdown",
   "id": "e9756ba7",
   "metadata": {
    "origin_pos": 0
   },
   "source": [
    "# D2L-Book: A Toolkit for Hands-on Books\n",
    "\n",
    "This package helps you build and publish **a book with Python code**, or\n",
    "**Python package documents with tutorials**. The document site is available at\n",
    "https://book.d2l.ai\n"
   ]
  }
 ],
 "metadata": {
  "language_info": {
   "name": "python"
  }
 },
 "nbformat": 4,
 "nbformat_minor": 5
}