{
 "cells": [
  {
   "cell_type": "markdown",
   "id": "7aef4734",
   "metadata": {
    "origin_pos": 0
   },
   "source": [
    "# Part II Application Scenarios\n",
    " :label:`part-ii-application-scenarios`\n",
    " \n",
    " In Part II, we will introduce various scenarios of applying machine\n",
    " learning frameworks. These scenarios include federated learning systems,\n",
    " recommender systems, reinforcement learning systems, and robotic\n",
    " systems.\n"
   ]
  }
 ],
 "metadata": {
  "language_info": {
   "name": "python"
  }
 },
 "nbformat": 4,
 "nbformat_minor": 5
}