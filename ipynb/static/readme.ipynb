{
 "cells": [
  {
   "cell_type": "markdown",
   "id": "8350cc20",
   "metadata": {
    "origin_pos": 0
   },
   "source": [
    "###Acknowledge\n",
    "首页风格及源码参考自[动手学深度学习](https://github.com/d2l-ai/d2l-zh)，特此提出感谢。\n"
   ]
  }
 ],
 "metadata": {
  "language_info": {
   "name": "python"
  }
 },
 "nbformat": 4,
 "nbformat_minor": 5
}