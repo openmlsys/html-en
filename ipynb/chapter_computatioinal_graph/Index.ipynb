{
 "cells": [
  {
   "cell_type": "markdown",
   "id": "5887a0b6",
   "metadata": {
    "origin_pos": 0
   },
   "source": [
    "# Computational Graph\n",
    "\n",
    "In this chapter, we look at the following question: How does a machine\n",
    "learning system efficiently execute such a program on hardware? We can\n",
    "break this down into three sub-questions: How do we schedule and execute\n",
    "the model described by a machine learning program? How do we improve the\n",
    "model scheduling and execution efficiency? And can we implement\n",
    "automatic gradient computation for updating the model? The key to\n",
    "answering these questions is computational graph technology. To explain\n",
    "this technology, this chapter explains the following key aspects:\n",
    "\n",
    "1.  Computational graph basics\n",
    "\n",
    "2.  Generation of static and dynamic computational graphs\n",
    "\n",
    "3.  Common execution methods of computational graphs\n",
    "\n",
    ":begin_tab:toc\n",
    " - [Computational_Graph_Functions](Computational_Graph_Functions.ipynb)\n",
    " - [Computational_Graph_Basics](Computational_Graph_Basics.ipynb)\n",
    " - [Generating_a_Computational_Graph](Generating_a_Computational_Graph.ipynb)\n",
    " - [Scheduling_and_Executing_Computational_Tasks](Scheduling_and_Executing_Computational_Tasks.ipynb)\n",
    " - [Chapter_Summary](Chapter_Summary.ipynb)\n",
    " - [Further_Reading](Further_Reading.ipynb)\n",
    ":end_tab:\n"
   ]
  }
 ],
 "metadata": {
  "language_info": {
   "name": "python"
  }
 },
 "nbformat": 4,
 "nbformat_minor": 5
}