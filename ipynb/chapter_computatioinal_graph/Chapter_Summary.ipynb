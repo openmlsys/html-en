{
 "cells": [
  {
   "cell_type": "markdown",
   "id": "f2489912",
   "metadata": {
    "origin_pos": 0
   },
   "source": [
    "# Chapter Summary\n",
    "\n",
    "1.  The computational graph technology is introduced to machine learning\n",
    "    frameworks in order to achieve a trade-off between programming\n",
    "    flexibility and computational efficiency.\n",
    "\n",
    "2.  A computational graph contains tensors (as units of data) and\n",
    "    operators (as units of operations).\n",
    "\n",
    "3.  A computational graph represents the computational logic and status\n",
    "    of a machine learning model and offers opportunities for\n",
    "    optimizations.\n",
    "\n",
    "4.  A computational graph is a directed acyclic graph. Operators in the\n",
    "    graph are directly or indirectly dependent on or independent of each\n",
    "    other, without circular dependencies.\n",
    "\n",
    "5.  Control flows, represented by conditional control and loop control,\n",
    "    determines how data flows in a computational graph.\n",
    "\n",
    "6.  Computational graphs come in two types: static and dynamic.\n",
    "\n",
    "7.  Static graphs support easy model deployment, offering high\n",
    "    computational efficiency and low memory footprint at the expense of\n",
    "    debugging performance.\n",
    "\n",
    "8.  Dynamic graphs provide computational results on the fly, which\n",
    "    increases programming flexibility and makes debugging easy for model\n",
    "    optimization and iterative algorithm improvement.\n",
    "\n",
    "9.  We can appropriately schedule the execution of operators based on\n",
    "    their dependencies reflected in computational graphs.\n",
    "\n",
    "10. For operators that run independently, we can consider concurrent\n",
    "    scheduling to achieve parallel computing. For operators with\n",
    "    computational dependencies, schedule them to run in serial.\n",
    "\n",
    "11. Specific training tasks of a computational graph can run\n",
    "    synchronously or asynchronously. The asynchronous mechanism\n",
    "    effectively improves the hardware efficiency and shortens the\n",
    "    training time.\n"
   ]
  }
 ],
 "metadata": {
  "language_info": {
   "name": "python"
  }
 },
 "nbformat": 4,
 "nbformat_minor": 5
}