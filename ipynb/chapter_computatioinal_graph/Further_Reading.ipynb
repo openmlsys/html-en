{
 "cells": [
  {
   "cell_type": "markdown",
   "id": "2770ecce",
   "metadata": {
    "origin_pos": 0
   },
   "source": [
    "# Further Reading\n",
    "\n",
    "1.  Computational graph technology is fundamentally important to major\n",
    "    machine learning frameworks. For the design details of major machine\n",
    "    learning frameworks, see *TensorFlow: Large-Scale Machine Learning\n",
    "    on Heterogeneous Distributed Systems*[^1], and *Pytorch: An\n",
    "    Imperative Style, High-Performance Deep Learning Library*.\n",
    "\n",
    "2.  Out-of-graph control flows are created using the frontend language,\n",
    "    which are easy to grasp for most programmers. However, implementing\n",
    "    control flows using the in-graph approach could be challenging. For\n",
    "    more on this topic, see *Implementation of Control Flow in\n",
    "    TensorFlow*[^2].\n",
    "\n",
    "3.  For the design and practices of dynamic and static graphs, see\n",
    "    *TensorFlow Eager: A Multi-Stage, Python-Embedded DSL for Machine\n",
    "    Learning*[^3], Eager Execution: An imperative, define-by-run\n",
    "    interface to TensorFlow[^4], Introduction to graphs and\n",
    "    tf.function[^5], and MindSpore Computational Graph[^6].\n",
    "\n",
    "[^1]: <https://arxiv.org/pdf/1603.04467.pdf>\n",
    "\n",
    "[^2]: <http://download.tensorflow.org/paper/white_paper_tf_control_flow_implementation_2017_11_1.pdf>\n",
    "\n",
    "[^3]: <https://arxiv.org/pdf/1903.01855.pdf>\n",
    "\n",
    "[^4]: <https://ai.googleblog.com/2017/10/eager-execution-imperative-define-by.html>\n",
    "\n",
    "[^5]: <https://www.tensorflow.org/guide/intro_to_graphs>\n",
    "\n",
    "[^6]: <https://www.mindspore.cn/tutorials/en/master/advanced/compute_graph.html>\n"
   ]
  }
 ],
 "metadata": {
  "language_info": {
   "name": "python"
  }
 },
 "nbformat": 4,
 "nbformat_minor": 5
}