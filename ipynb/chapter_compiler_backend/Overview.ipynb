{
 "cells": [
  {
   "cell_type": "markdown",
   "id": "4d2708a2",
   "metadata": {
    "origin_pos": 0
   },
   "source": [
    "# Overview\n",
    "\n",
    "Figure :numref:`ch07/ch07-compiler-backend-01` illustrates the\n",
    "architecture of the AI compiler backend, situated between the frontend\n",
    "and the hardware driver layer.\n",
    "\n",
    "![Architecture of AI compilerbackend](../img/ch07/compiler-backend-architecture.pdf)\n",
    ":label:`ch07/ch07-compiler-backend-01`\n",
    "\n",
    "Graph optimization is a crucial step that involves transforming the\n",
    "Intermediate Representation (IR) into a format that aligns with the\n",
    "hardware features, facilitating operator selection. Since the frontend's\n",
    "IR is abstracted from low-level runtime details, additional effort is\n",
    "required to map the IR to a set of operators, such as MatMul,\n",
    "Convolution, and ReLU. Sometimes, a single operator is sufficient to\n",
    "handle a subset of the IR's functions. In such cases, the operator\n",
    "fusion technique can be employed to fuse a group of IR nodes together.\n",
    "Similarly, if a direct backend counterpart for a complex IR node is\n",
    "unavailable, it can be partitioned into smaller operators.\n",
    "\n",
    "Once the graph optimization is complete, the compiler backend proceeds\n",
    "with operator selection, which involves matching the optimized IR with\n",
    "appropriate operators that can be executed on the target device with\n",
    "optimal efficiency. This process is similar to pattern matching. While\n",
    "the easiest approach would be to map each IR node to a separate hardware\n",
    "operator, such an approach may not be hardware-friendly. Instead,\n",
    "existing compilers generally provide multiple candidate operators for\n",
    "each IR node. The following steps are typically involved in the operator\n",
    "selection process:\n",
    "\n",
    "1.  The IR nodes received from the frontend are partitioned or fused to\n",
    "    generate a low-level IR that is meaningful to the hardware.\n",
    "\n",
    "2.  The compiler backend carefully selects operator mappings for the IR\n",
    "    nodes, aiming to create a complete sequence of operators.\n",
    "\n",
    "3.  The backend determines the format and data type of each input and\n",
    "    output, ensuring fine-grained optimization on the IR.\n",
    "\n",
    "4.  Finally, the compiler backend traverses the resulting sequence of\n",
    "    operators, allocates input and output memory for each operator, and\n",
    "    loads the operators onto the target device for computation.\n",
    "\n",
    "By following this process, the compiler backend optimizes the IR by\n",
    "selecting suitable operators, determining their input and output\n",
    "requirements, and allocating memory accordingly. This enables efficient\n",
    "execution of the AI program on the target device.\n",
    "\n",
    "To further enhance the performance of a single operator, the compiler\n",
    "backend often utilizes an operator compiler like TVM (Tensor Virtual\n",
    "Machine) or XLA (Accelerated Linear Algebra). An operator compiler\n",
    "analyzes the statements in an operator implementation, and it offers\n",
    "various levels of optimization, including operator-level optimizations,\n",
    "code generation, and runtime support. This stack is designed to enable\n",
    "efficient execution of an operator on a wide range of hardware\n",
    "platforms.\n"
   ]
  }
 ],
 "metadata": {
  "language_info": {
   "name": "python"
  }
 },
 "nbformat": 4,
 "nbformat_minor": 5
}