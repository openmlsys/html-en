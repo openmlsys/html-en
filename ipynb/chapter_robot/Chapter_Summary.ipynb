{
 "cells": [
  {
   "cell_type": "markdown",
   "id": "852da962",
   "metadata": {
    "origin_pos": 0
   },
   "source": [
    "# Chapter Summary\n",
    "\n",
    "This chapter briefly introduced the basic concepts of robotic systems\n",
    "--- including the general Robot Operating System (ROS), perception\n",
    "system, planning system, and control system. In sections about ROS, we\n",
    "reviewed the basic concepts and demonstrated code examples to\n",
    "familiarize you with the process of building ROS. Currently, robotics is\n",
    "a fast-growing branch of artificial intelligence. Many practical\n",
    "problems require further advancement in algorithms and system designs of\n",
    "robotics before they can be solved.\n"
   ]
  }
 ],
 "metadata": {
  "language_info": {
   "name": "python"
  }
 },
 "nbformat": 4,
 "nbformat_minor": 5
}