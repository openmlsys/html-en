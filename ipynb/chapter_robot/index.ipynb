{
 "cells": [
  {
   "cell_type": "markdown",
   "id": "b3fc0e74",
   "metadata": {
    "origin_pos": 0
   },
   "source": [
    "# Robotic System\n",
    "\n",
    "This chapter introduces robotics --- a major direction of machine\n",
    "learning --- and robotic systems. The key aspects explored in this\n",
    "chapter are as follows:\n",
    "\n",
    "-   Basic knowledge of robotic systems\n",
    "\n",
    "-   Robotic perception system, planning system, and control system\n",
    "\n",
    "-   General Robot Operating System (ROS)\n",
    "\n",
    ":begin_tab:toc\n",
    " - [Overview_of_Robotic_Systems](Overview_of_Robotic_Systems.ipynb)\n",
    " - [Robot_Operating_System](Robot_Operating_System.ipynb)\n",
    " - [Case_Study](Case_Study.ipynb)\n",
    " - [Modern_Robot_Learning](Modern_Robot_Learning.ipynb)\n",
    " - [Chapter_Summary](Chapter_Summary.ipynb)\n",
    ":end_tab:\n"
   ]
  }
 ],
 "metadata": {
  "language_info": {
   "name": "python"
  }
 },
 "nbformat": 4,
 "nbformat_minor": 5
}