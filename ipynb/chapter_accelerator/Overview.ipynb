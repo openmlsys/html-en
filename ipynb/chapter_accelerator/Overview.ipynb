{
 "cells": [
  {
   "cell_type": "markdown",
   "id": "1d6b56f2",
   "metadata": {
    "origin_pos": 0
   },
   "source": [
    "# Overview\n",
    "\n",
    "An effective computer architecture is expected to be both\n",
    "energy-efficient---quantified by the number of basic operations executed\n",
    "per unit of energy---and versatile---defined by the range of tasks a\n",
    "chip can undertake. We can evaluate these aspects by considering two\n",
    "primary chip categories. The first includes general-purpose processors\n",
    "like CPUs, capable of managing a diverse array of computing tasks,\n",
    "though at the cost of lower energy efficiency, averaging around 0.1\n",
    "TOPS/W. Conversely, application-specific integrated circuits (ASICs)\n",
    "offer enhanced energy efficiency but have more restricted task\n",
    "capabilities. With respect to chip design, general-purpose processors\n",
    "have integrated various acceleration technologies such as superscalar,\n",
    "single-instruction multi-data (SIMD), and single-instruction\n",
    "multi-thread (SIMT) to boost their energy efficiency.\n",
    "\n",
    "General-Purpose Graphics Processing Units (GPUs) achieve a respectable\n",
    "equilibrium between energy efficiency and versatility. Modern GPUs\n",
    "incorporate numerous optimization designs for vector, matrix, and tensor\n",
    "computing. For instance, NVIDIA GPUs are equipped with Tensor Cores,\n",
    "Transformer Cores, and Structure Sparsity Cores, which are specifically\n",
    "designed to expedite the distinctive types of computation prevalent in\n",
    "neural networks. Despite these enhancements, GPUs' requirement to\n",
    "support a wide range of computing tasks results in larger footprints and\n",
    "increased power consumption.\n",
    "\n",
    "A promising solution to this challenge is deep learning hardware\n",
    "accelerators. Notable examples include Google's Tensor Processing Units\n",
    "(TPUs), Apple's Neural Processing Units (NPUs), and Huawei's Ascend\n",
    "Chips. For instance, Google's TPU, a chip designed to expedite deep\n",
    "learning computations, uses a systolic array to optimize matrix\n",
    "multiplication and convolution operations, fully utilizing local data\n",
    "with minimal memory access.\n"
   ]
  }
 ],
 "metadata": {
  "language_info": {
   "name": "python"
  }
 },
 "nbformat": 4,
 "nbformat_minor": 5
}