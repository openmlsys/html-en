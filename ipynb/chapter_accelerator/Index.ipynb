{
 "cells": [
  {
   "cell_type": "markdown",
   "id": "e19739a8",
   "metadata": {
    "origin_pos": 0
   },
   "source": [
    "# Hardware Accelerator\n",
    "\n",
    "In the field of AI frameworks, hardware accelerators play a vital role\n",
    "in enabling efficient neural network computations. This chapter delves\n",
    "into the design of modern hardware accelerators, their programming\n",
    "techniques, and the typical approaches to optimize accelerator\n",
    "performance.\n",
    "\n",
    "This chapter has the following learning objectives:\n",
    "\n",
    "1.  Understand the architecture of a modern hardware accelerator.\n",
    "\n",
    "2.  Understand the methods of programming hardware accelerators.\n",
    "\n",
    "3.  Understand the typical techniques used to optimize the performance\n",
    "    of accelerators.\n",
    "\n",
    ":begin_tab:toc\n",
    " - [Overview](Overview.ipynb)\n",
    " - [Components_of_Hardware_Accelerators](Components_of_Hardware_Accelerators.ipynb)\n",
    " - [Programming_Methods](Programming_Methods.ipynb)\n",
    " - [Performance_Optimization_Methods](Performance_Optimization_Methods.ipynb)\n",
    " - [Chapter_Summary](Chapter_Summary.ipynb)\n",
    ":end_tab:\n"
   ]
  }
 ],
 "metadata": {
  "language_info": {
   "name": "python"
  }
 },
 "nbformat": 4,
 "nbformat_minor": 5
}