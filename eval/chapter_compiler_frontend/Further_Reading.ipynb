{
 "cells": [
  {
   "cell_type": "markdown",
   "id": "d140460c",
   "metadata": {
    "origin_pos": 0
   },
   "source": [
    "# Further Reading\n",
    "\n",
    "1.  Microsoft Team proposes a series of modern AI compilers to enhance\n",
    "    the utilization of diverse heterogeneous hardware. This paper\n",
    "    introduces four distinct optimizations: hardware parallel\n",
    "    utilization, compilation efficiency, memory access improvement for\n",
    "    enhanced computing efficiency, and efficient control flow execution\n",
    "    on accelerators. For more details, see *AI Compiler Quartet*[^1]\n",
    "\n",
    "[^1]: <https://www.microsoft.com/en-us/research/blog/building-a-heavy-metal-quartet-of-ai-compilers/>\n"
   ]
  }
 ],
 "metadata": {
  "language_info": {
   "name": "python"
  }
 },
 "nbformat": 4,
 "nbformat_minor": 5
}