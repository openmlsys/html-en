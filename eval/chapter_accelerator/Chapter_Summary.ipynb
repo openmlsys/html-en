{
 "cells": [
  {
   "cell_type": "markdown",
   "id": "654970c0",
   "metadata": {
    "origin_pos": 0
   },
   "source": [
    "# Chapter Summary\n",
    "\n",
    "1.  Hardware accelerators offer various types of on-chip caches and\n",
    "    computational units, enhancing the performance of deep learning\n",
    "    computational tasks.\n",
    "\n",
    "2.  To fully exploit the performance potential of hardware accelerators,\n",
    "    it's necessary to implement programmable hardware accelerators,\n",
    "    bringing architectural innovation.\n",
    "\n",
    "3.  To balance computational efficiency and usability, the programming\n",
    "    methods for hardware accelerators range from high-level computation\n",
    "    operators to harnessing the primitives associated with hardware\n",
    "    units, and to using low-level assembly languages.\n",
    "\n",
    "4.  A variety of methods are crucial to optimize accelerator\n",
    "    performance, which include enhancing arithmetic intensity, caching\n",
    "    data in shared memory, and concealing data store/load latency.\n"
   ]
  }
 ],
 "metadata": {
  "language_info": {
   "name": "python"
  }
 },
 "nbformat": 4,
 "nbformat_minor": 5
}