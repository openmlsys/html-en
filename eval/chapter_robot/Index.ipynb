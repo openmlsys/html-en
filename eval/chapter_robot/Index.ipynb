{
 "cells": [
  {
   "cell_type": "markdown",
   "id": "dc219c41",
   "metadata": {
    "origin_pos": 0
   },
   "source": [
    "# Robotic System\n",
    "\n",
    "This chapter introduces robotics --- a major direction of machine\n",
    "learning --- and robotic systems. The key aspects explored in this\n",
    "chapter are as follows:\n",
    "\n",
    "-   Basic knowledge of robotic systems\n",
    "\n",
    "-   Robotic perception system, planning system, and control system\n",
    "\n",
    "-   General Robot Operating System (ROS)\n",
    "\n",
    "```toc\n",
    ":maxdepth: 2\n",
    "\n",
    "Overview_of_Robotic_Systems\n",
    "Robot_Operating_System\n",
    "Case_Study\n",
    "Modern_Robot_Learning\n",
    "Chapter_Summary\n",
    "```\n"
   ]
  }
 ],
 "metadata": {
  "language_info": {
   "name": "python"
  }
 },
 "nbformat": 4,
 "nbformat_minor": 5
}