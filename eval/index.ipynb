{
 "cells": [
  {
   "cell_type": "markdown",
   "id": "c366d31c",
   "metadata": {
    "origin_pos": 0
   },
   "source": [
    "Machine Learning Systems: Design and Implementation\n",
    "=========================\n",
    "\n",
    "```eval_rst\n",
    ".. raw:: html\n",
    "   :file: frontpage.html\n",
    "```\n",
    "\n",
    "```toc\n",
    ":maxdepth: 2\n",
    ":numbered:\n",
    "\n",
    "chapter_preface/index\n",
    "chapter_introduction/index\n",
    "\n",
    "\n",
    "chapter_preface_basic/index\n",
    "chapter_programming_model/index\n",
    "chapter_computational_graph/index\n",
    "chapter_compiler_frontend/index\n",
    "chapter_compiler_backend/index\n",
    "chapter_accelerator/index\n",
    "chapter_distributed/index\n",
    "chapter_model_deployment/index\n",
    "\n",
    "\n",
    "chapter_preface_extension/index\n",
    "chapter_recommender_system/index\n",
    "chapter_reinforcement_learning/index\n",
    "chapter_robot/index\n",
    "```\n",
    "\n",
    "```toc\n",
    ":maxdepth: 1\n",
    "\n",
    "appendix_machine_learning_introduction/index\n",
    "```\n"
   ]
  }
 ],
 "metadata": {
  "language_info": {
   "name": "python"
  }
 },
 "nbformat": 4,
 "nbformat_minor": 5
}