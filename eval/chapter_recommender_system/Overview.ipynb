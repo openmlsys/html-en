{
 "cells": [
  {
   "cell_type": "markdown",
   "id": "031f2d60",
   "metadata": {
    "origin_pos": 0
   },
   "source": [
    "# Overview\n",
    "\n",
    "The central component of a recommender system is the recommendation\n",
    "model, which generates prospective items of interest for users based on\n",
    "given input data. For a large-scale recommender system to function\n",
    "seamlessly and deliver high-quality results, it needs additional\n",
    "supporting modules built around this central model.\n",
    "\n",
    "Figure :numref:`recommender systems` illustrates the essential modules\n",
    "of a typical recommender system. A messaging queue accepts logs uploaded\n",
    "from the client-side of the recommendation service. These logs capture\n",
    "user feedback on previously recommended items, such as a record of\n",
    "whether users clicked on the suggested items. A separate data processing\n",
    "module handles the raw data from these logs, generating new training\n",
    "samples that are subsequently added to another message queue.\n",
    "\n",
    "Training servers extract these training samples from the message queue\n",
    "and use them to update model parameters. A typical recommendation model\n",
    "comprises two components: embedding tables and neural networks. During\n",
    "the training phase, each training server retrieves the model parameters\n",
    "from parameter servers, calculates gradients, and then uploads these\n",
    "gradients back to parameter servers. Parameter servers integrate the\n",
    "results from each training server and update the parameters accordingly.\n",
    "\n",
    "Inference servers handle user requests, procure the necessary model\n",
    "parameters from parameter servers based on these requests, and calculate\n",
    "the recommendation outcomes.\n",
    "\n",
    "![Architecture of a recommendersystem](../img/ch_recommender/recommender_system.png)\n",
    ":label:`recommender systems`\n"
   ]
  }
 ],
 "metadata": {
  "language_info": {
   "name": "python"
  }
 },
 "nbformat": 4,
 "nbformat_minor": 5
}