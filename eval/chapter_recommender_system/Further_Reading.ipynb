{
 "cells": [
  {
   "cell_type": "markdown",
   "id": "3680f0b7",
   "metadata": {
    "origin_pos": 0
   },
   "source": [
    "# Further Reading\n",
    "\n",
    "-   Recommendation model: Wide & Deep[^1]\n",
    "\n",
    "-   Message queue introduction: What Is a Message Queue?[^2]\n",
    "\n",
    "-   Feature store introduction: What Is the Feature Store in Machine\n",
    "    Learning?[^3]\n",
    "\n",
    "[^1]: <https://arxiv.org/abs/1606.07792>\n",
    "\n",
    "[^2]: https://aws.amazon.com/message-queue/\n",
    "\n",
    "[^3]: https://www.featurestore.org/what-is-a-feature-store\n"
   ]
  }
 ],
 "metadata": {
  "language_info": {
   "name": "python"
  }
 },
 "nbformat": 4,
 "nbformat_minor": 5
}