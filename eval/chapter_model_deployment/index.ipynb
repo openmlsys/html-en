{
 "cells": [
  {
   "cell_type": "markdown",
   "id": "6752dc17",
   "metadata": {
    "origin_pos": 0
   },
   "source": [
    "# Model Deployment {#ch:deploy}\n",
    "\n",
    "In earlier chapters, we discussed the basic components of the machine\n",
    "learning model training system. In this chapter, we look at the basics\n",
    "of model deployment, a process whereby a trained model is deployed in a\n",
    "runtime environment for inference. We explore the conversion from a\n",
    "training model into an inference model, model compression methods that\n",
    "adapt to hardware restrictions, model inference and performance\n",
    "optimization, and model security protection.\n",
    "\n",
    "The key aspects this chapter explores are as follows:\n",
    "\n",
    "1.  Conversion and optimization from a training model to an inference\n",
    "    model.\n",
    "\n",
    "2.  Common methods for model compression: quantization, sparsification,\n",
    "    and knowledge distillation.\n",
    "\n",
    "3.  Model inference process and common methods for performance\n",
    "    optimization.\n",
    "\n",
    "4.  Common methods for model security protection.\n",
    "\n",
    "```toc\n",
    ":maxdepth: 2\n",
    "\n",
    "Overview\n",
    "Conversion_to_Inference_Model_and_Model_Optimization\n",
    "Model_Compression\n",
    "Advanced_Efficient_Techniques\n",
    "Model_Inference\n",
    "Security_Protection_of_Models\n",
    "Chapter_Summary\n",
    "Further_Reading\n",
    "```\n"
   ]
  }
 ],
 "metadata": {
  "language_info": {
   "name": "python"
  }
 },
 "nbformat": 4,
 "nbformat_minor": 5
}