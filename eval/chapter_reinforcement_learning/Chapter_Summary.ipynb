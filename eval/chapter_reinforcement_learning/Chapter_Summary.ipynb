{
 "cells": [
  {
   "cell_type": "markdown",
   "id": "9810e709",
   "metadata": {
    "origin_pos": 0
   },
   "source": [
    "# Chapter Summary\n",
    "\n",
    "1.  The RL systems are usually consisted of the agent, environment, and\n",
    "    a policy. The reward function can be also important for a policy to\n",
    "    be optimized in RL.\n",
    "\n",
    "2.  Single-agent single-node RL system is a relatively simple framework\n",
    "    in RL systems. It is also composed with several key components.\n",
    "\n",
    "3.  Distributed RL systems are more complex than single-node system, but\n",
    "    with benefits of speeding up the policy optimization process.\n",
    "\n",
    "4.  Multi-agent RL involves more than one agent to interact with each\n",
    "    other and the environment. Thus multi-agent RL systems can be more\n",
    "    complicated than single-agent RL system, even with different\n",
    "    objectives.\n",
    "\n",
    "5.  Due to the particularity of reinforcement learning problem settings\n",
    "    (e.g., sampling through interaction with the environment), related\n",
    "    algorithms pose stricter requirements on the computing system. This\n",
    "    raises a couple of questions: How can we better balance sample\n",
    "    collection and strategy training while also evenly utilizing the\n",
    "    capabilities of different compute hardware such as CPUs and GPUs?\n",
    "    And how can reinforcement learning agents be deployed in a\n",
    "    large-scale distributed system? To find the answers to these\n",
    "    questions, we must deeply understand the design and use of computer\n",
    "    systems.\n"
   ]
  }
 ],
 "metadata": {
  "language_info": {
   "name": "python"
  }
 },
 "nbformat": 4,
 "nbformat_minor": 5
}