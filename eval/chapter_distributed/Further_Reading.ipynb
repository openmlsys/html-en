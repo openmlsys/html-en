{
 "cells": [
  {
   "cell_type": "markdown",
   "id": "45b23dc5",
   "metadata": {
    "origin_pos": 0
   },
   "source": [
    "# Further Reading\n",
    "\n",
    "1.  A Survey on Distributed Machine Learning[^1]\n",
    "\n",
    "2.  Horovod: fast and easy distributed deep learning in TensorFlow[^2]\n",
    "\n",
    "3.  GPipe: Efficient Training of Giant Neural Networks using Pipeline\n",
    "    Parallelism[^3]\n",
    "\n",
    "4.  Accurate, Large Minibatch SGD: Training ImageNet in 1 Hour[^4]\n",
    "\n",
    "[^1]: <https://dl.acm.org/doi/abs/10.1145/3377454>\n",
    "\n",
    "[^2]: <https://arxiv.org/abs/1802.05799>\n",
    "\n",
    "[^3]: <https://arxiv.org/abs/1811.06965>\n",
    "\n",
    "[^4]: <https://arxiv.org/abs/1706.02677>\n"
   ]
  }
 ],
 "metadata": {
  "language_info": {
   "name": "python"
  }
 },
 "nbformat": 4,
 "nbformat_minor": 5
}