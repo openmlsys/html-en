{
 "cells": [
  {
   "cell_type": "markdown",
   "id": "780b22fc",
   "metadata": {
    "origin_pos": 0
   },
   "source": [
    "# Programming Model\n",
    "\n",
    "Machine learning frameworks comprise various components that facilitate\n",
    "the efficient development of algorithms, data processing, model\n",
    "deployment, performance optimization, and hardware acceleration. When\n",
    "designing the application programming interfaces (APIs) for these\n",
    "components, a key consideration is striking the right balance between\n",
    "framework performance and usability. To achieve optimal performance,\n",
    "developers utilize C or C++, as these programming languages enable\n",
    "efficient invocation of the APIs provided by the operating system and\n",
    "hardware accelerators.\n",
    "\n",
    "Regarding usability, machine learning framework users, including data\n",
    "scientists, biologists, chemists, and physicists, often possess strong\n",
    "industrial backgrounds and are skilled in using high-level scripting\n",
    "languages like Python, Matlab, R, and Julia. While these languages offer\n",
    "remarkable programming usability, they lack deep optimization\n",
    "capabilities for underlying hardware or operating systems compared to C\n",
    "and C++. Therefore, the core design objective of machine learning\n",
    "frameworks encompasses two aspects: providing easy-to-use APIs for\n",
    "implementing algorithms using high-level languages like Python, and\n",
    "providing low-level APIs centered around C and C++ to assist framework\n",
    "developers in implementing numerous high-performance components and\n",
    "efficiently executing them on hardware. This chapter describes\n",
    "strategies for achieving this design objective.\n",
    "\n",
    "The chapter aims to achieve the following learning objectives:\n",
    "\n",
    "1.  Understanding the workflows and programming principles of machine\n",
    "    learning frameworks.\n",
    "\n",
    "2.  Understanding the design of neural network models and layers.\n",
    "\n",
    "3.  Understanding how machine learning frameworks bridge Python and\n",
    "    C/C++ functions.\n",
    "\n",
    "4.  Understanding the support for functional programming in machine\n",
    "    learning frameworks.\n",
    "\n",
    "```toc\n",
    ":maxdepth: 2\n",
    "\n",
    "Overview\n",
    "Machine_Learning_Workflow\n",
    "Neural_Network_Programming\n",
    "Functional_Programming\n",
    "Bridging_Python_and_C_C++_Functions\n",
    "Chapter_Summary\n",
    "```\n"
   ]
  }
 ],
 "metadata": {
  "language_info": {
   "name": "python"
  }
 },
 "nbformat": 4,
 "nbformat_minor": 5
}