{
 "cells": [
  {
   "cell_type": "markdown",
   "id": "1856b676",
   "metadata": {
    "origin_pos": 0
   },
   "source": [
    "# Chapter Summary\n",
    "\n",
    "1.  In order to achieve a balance between usability and performance,\n",
    "    modern machine learning systems utilize Python for frontend\n",
    "    programming and C/C++ for backend programming.\n",
    "\n",
    "2.  It is expected from a machine learning framework to offer\n",
    "    programming support for all aspects of a machine learning\n",
    "    application workflow. This is usually delivered through high-level\n",
    "    Python APIs, which facilitate activities such as data processing,\n",
    "    model definition, loss function determination, model training, and\n",
    "    model testing.\n",
    "\n",
    "3.  Large DNNs can be constructed by stacking neural network layers.\n",
    "\n",
    "4.  Various technologies are used to facilitate interoperability between\n",
    "    Python and C, with pybind being a popular choice in machine learning\n",
    "    frameworks.\n",
    "\n",
    "5.  Machine learning frameworks typically offer a variety of C/C++\n",
    "    interfaces, allowing users to define and register operators\n",
    "    implemented in C++. These operators enable users to create various\n",
    "    framework extensions, such as high-performance models, data\n",
    "    processing functions, and optimizers.\n"
   ]
  }
 ],
 "metadata": {
  "language_info": {
   "name": "python"
  }
 },
 "nbformat": 4,
 "nbformat_minor": 5
}