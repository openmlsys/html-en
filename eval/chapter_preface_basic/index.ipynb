{
 "cells": [
  {
   "cell_type": "markdown",
   "id": "510473cb",
   "metadata": {
    "origin_pos": 0
   },
   "source": [
    "# Part I Framework Design\n",
    " :label:`part-i-framework-design`\n",
    " \n",
    " In Part 1, we present a top-down approach to designing a machine\n",
    " learning framework. We begin by introducing the design of programming\n",
    " models for machine learning frameworks, followed by a discussion on\n",
    " representing a machine learning program as a computational graph. The\n",
    " machine learning program undergoes compilation by an AI compiler, which\n",
    " employs a range of frontend and backend techniques. Additionally, we\n",
    " will delve into the system components within a machine learning\n",
    " framework that facilitate data processing, model deployment, and\n",
    " distributed training.\n"
   ]
  }
 ],
 "metadata": {
  "language_info": {
   "name": "python"
  }
 },
 "nbformat": 4,
 "nbformat_minor": 5
}