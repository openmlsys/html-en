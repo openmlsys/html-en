{
 "cells": [
  {
   "cell_type": "markdown",
   "id": "c91437db",
   "metadata": {
    "origin_pos": 0
   },
   "source": [
    "# Book Organization and Intended Audience\n",
    "\n",
    "This book adopts a level-by-level approach to discuss design principles\n",
    "and implementation practices of machine learning systems. The\n",
    "**Framework Design** part starts with introducing key concepts that\n",
    "framework users need to understand, including programming interface\n",
    "design and computational graph. This part then describes the frontend\n",
    "and backend techniques used in AI compilers as well as key techniques\n",
    "for processing data, deploying models, and distributing training to\n",
    "multiple machines. The **Application Scenarios** part elaborates on\n",
    "several important types of machine learning systems, such as federated\n",
    "learning and recommender systems, in an attempt to provide readers with\n",
    "useful knowledge for both deploying and operating machine learning\n",
    "frameworks in different application scenarios.\n",
    "\n",
    "This book is intended for the following readers:\n",
    "\n",
    "1.  **Students:** This book provides a wealth of design principles and\n",
    "    hands-on experience of machine learning systems. Such knowledge will\n",
    "    help students better understand the theoretical pros and cons and\n",
    "    practical challenges of machine learning algorithms.\n",
    "\n",
    "2.  **Researchers:** This book aims to help researchers tackle various\n",
    "    challenges in machine learning implementation and guide them through\n",
    "    the design of next-generation machine learning algorithms meant to\n",
    "    solve large-scale practical problems.\n",
    "\n",
    "3.  **Developers:** We also hope this book will allow developers to gain\n",
    "    a profound understanding on the internal architecture of a machine\n",
    "    learning system. Such knowledge will move them a step further in\n",
    "    developing new functions for their applications, debugging system\n",
    "    performance issues, and even customizing a machine learning system\n",
    "    based on their business needs.\n"
   ]
  }
 ],
 "metadata": {
  "language_info": {
   "name": "python"
  }
 },
 "nbformat": 4,
 "nbformat_minor": 5
}